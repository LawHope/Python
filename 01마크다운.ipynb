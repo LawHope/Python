{
  "nbformat": 4,
  "nbformat_minor": 0,
  "metadata": {
    "colab": {
      "name": "01마크다운.nb",
      "provenance": [],
      "collapsed_sections": [
        "YaZMevFnCFYx",
        "msWcjQeQDDmc",
        "mQip2P-5DRpn",
        "D0z2IykyXu5J",
        "HrCSNq_JXu2e",
        "ri3ue1bzXu0F",
        "AJt-ACjDXuxS",
        "3rUDE_RtXuuV"
      ],
      "authorship_tag": "ABX9TyNGajmHDByqPhfAmjgRHE/B",
      "include_colab_link": true
    },
    "kernelspec": {
      "name": "python3",
      "display_name": "Python 3"
    },
    "language_info": {
      "name": "python"
    }
  },
  "cells": [
    {
      "cell_type": "markdown",
      "metadata": {
        "id": "view-in-github",
        "colab_type": "text"
      },
      "source": [
        "<a href=\"https://colab.research.google.com/github/LawHope/Python/blob/master/01%EB%A7%88%ED%81%AC%EB%8B%A4%EC%9A%B4.ipynb\" target=\"_parent\"><img src=\"https://colab.research.google.com/assets/colab-badge.svg\" alt=\"Open In Colab\"/></a>"
      ]
    },
    {
      "cell_type": "markdown",
      "metadata": {
        "id": "KhKNLI7tuKcO"
      },
      "source": [
        "Markdown Elements<br><br>\n",
        "Table of contents 목차<br>\n",
        "[1. Headers 헤더](#1-headers-헤더)<br>\n",
        "[2. Emphasis 강조](#2-emphasis-강조)<br>\n",
        "[3. Blockquotes 인용](#3-blockquotes-인용)<br>\n",
        "[4. Lists 목록](#4-lists-목록)<br>\n",
        "[5. Backslash Escapes 백슬래쉬 이스케이프](#5-backslash-escapes-백슬래쉬-이스케이프)<br>\n",
        "[6. Images 이미지](#6-images-이미지)<br>\n",
        "[7. Links (Anchor) 링크](#7-links-anchor-링크)<br>\n",
        "[8. Fenced Code Blocks 코드 블럭](#8-fenced-code-blocks-코드-블럭)<br>\n",
        "[9. Task Lisk 체크 리스트](#9-task-lisk-체크-리스트)<br>\n",
        "[12. Table 테이블](#12-table-테이블)<br>\n",
        "[13. Line Breaks 줄바꿈](#13-line-breaks-줄바꿈)<br>\n",
        "[14. Reference 참고 링크](#14-reference-참고-링크)<br>\n"
      ]
    },
    {
      "cell_type": "markdown",
      "metadata": {
        "id": "NpJJz32586Bt"
      },
      "source": [
        "# 헤더는 #이다. markDown syntax 마크다운 작성법"
      ]
    },
    {
      "cell_type": "markdown",
      "metadata": {
        "id": "ceO_0Mdj9XnW"
      },
      "source": [
        "**마크다운(Markdown)은 일반 텍스트 문서의 양식을 편집하는 문법입니다**.<br><br>\n",
        "README파일이나 온라인 문서, 혹은 일반 텍스트 편집기로 문서 양식을 편집할 때 쓰입니다.<br>\n",
        "마크다운을 이용해 작성된 문서는 쉽게 HTML 등 다른 문서형태로 변환이 가능합니다.\n",
        "<br>\n",
        "존 그루버는 2004년에 문법 면에서 [*에런 스워츠*](https://ko.wikipedia.org/wiki/%EC%97%90%EB%9F%B0_%EC%8A%A4%EC%9B%8C%EC%B8%A0)와\n",
        "중대한 협업을 통해 마트다운 언어를 만들었으며,<br>\n",
        "사람들이 일기 쉽고 쓰기 쉬운 플레인 텍스트 포맷을 사용하여 쓸 수 있으면서 구조적으로 유효한 HTML로 선택적 변환이 가능합니다.<br>\n",
        "[*John Gruber\n",
        "(DaringFireball)*](http://daringfireball.net/projects/markdown/syntax).\n"
      ]
    },
    {
      "cell_type": "markdown",
      "metadata": {
        "id": "4iK2eYfm-xDf"
      },
      "source": [
        "##**Markdown Pros 마크다운 장점**<br><br>\n",
        "* 읽기 쉽다. <br>\n",
        "확실히 마크다운은 다른 마크업 언어에 비해 가독성이 좋습니다. 문법도 단순하고, HTML은 작성하면서 브라우저에서 어떻게 보여질지 예상하는게 쉽지 않지만, 마크다운을 사용한 텍스트는 브라우저에 보여질 내용을 쉽게 상상할 수 있습니다.<br><br>\n",
        "* 익히기 쉽다. <br>\n",
        "존 그루버는 사람들이 많이 사용하는 것은 마크다운으로 사용하고, 복잡한 것은 HTML로 사용하기 바랬습니다. 그래서 문법이 매우 간단합니다. 그리고 마크다운으로 글을 작성할 때, 제한적인 기능 몇 개를 제외하고 HTML을 함께 사용해도 상관없습니다.<br><br>\n",
        "* 모바일 친화적이다. <br>\n",
        "단순히 텍스트만 작성하는 것이 아닌 에디터를 이용해 모바일로 작성하는 것은 쉽지 않습니다.<br>하지만 마크다운을 이용하면 모바일에서도 태그로 쉽게 서식을 넣을 수 있어서, 에디터보다 훨씬 편합니다.\n"
      ]
    },
    {
      "cell_type": "markdown",
      "metadata": {
        "id": "bxiZWAFT_60z"
      },
      "source": [
        "## Markdown Cons 마크다운 단점<br><br>\n",
        "* 문법이 너무 단순하다.  <br>\n",
        "문법이 단순한 나머지 결국에는 HTML을 써야하는 경우가 생깁니다. <br>테이블 정렬 기능은 있지만, 이미지 정렬 기능이 없어서 HTML의 img 태그를 사용해야합니다. <br>태그에 클래스 지정등이 불가능하기 때문에, 클래스나 id를 지정하려면 HTML을 사용해야합니다.<br><br>\n",
        "* 표준이 없어 사용자마다 문법이 상이할 수 있다. \n",
        "문법이 단순하다 보니, 이러한 점을 해결하기 위해 확장문법들이 생겼고, 이러한 것들 때문에 한 곳에서 작동하는 마크다운 문서가 다른 곳에서는 잘 작동하지 않는 경우가 생기기도 합니다.\n"
      ]
    },
    {
      "cell_type": "code",
      "metadata": {
        "id": "6XuyKtrWB5dN"
      },
      "source": [
        ""
      ],
      "execution_count": null,
      "outputs": []
    },
    {
      "cell_type": "code",
      "metadata": {
        "id": "zYMjIQbgBD7e"
      },
      "source": [
        ""
      ],
      "execution_count": null,
      "outputs": []
    },
    {
      "cell_type": "markdown",
      "metadata": {
        "id": "YaZMevFnCFYx"
      },
      "source": [
        "# This is H1\n",
        "## This is H2\n",
        "### This is H3\n",
        "#### This is H4\n",
        "##### This is H5\n",
        "###### This is H6\n",
        "=== This is H1"
      ]
    },
    {
      "cell_type": "markdown",
      "metadata": {
        "id": "msWcjQeQDDmc"
      },
      "source": [
        "# 2. Emphasis 강조<br>\n",
        "```기울여 쓰기(italic) :```<br>\n",
        "* '*'또는'_'로 감싼 텍스트.<br><br>\n",
        "```두껍게 쓰기(bold) :``` <br>\n",
        "* '*'또는 '__'로 감싼 텍스트<br><br>\n",
        "* ```취소선 :```<br>\n",
        "`~~'로 감싼 텍스트.<br><br>\n",
        "* 이탤릭체와 두껍게를 같이 사용할 수 있습니다.\n"
      ]
    },
    {
      "cell_type": "markdown",
      "metadata": {
        "id": "mQip2P-5DRpn"
      },
      "source": [
        "# 3. Blockquotes 인용\n",
        "* '>'으로 시작하는 텍스트.<br>\n",
        "* '>'는 3개까지 가능합니다.<br>\n",
        "> 1개는 인용문.<br>\n",
        ">> 2개는 인용문 안에 인용문.<br>\n",
        ">>> 3개는 인용문 안에 인용문 안에 인용문.\n"
      ]
    },
    {
      "cell_type": "markdown",
      "metadata": {
        "id": "D0z2IykyXu5J"
      },
      "source": [
        "# 4. Lists 목록\n",
        "*  Unordered lists 순서가 없는 목록 <br>\n",
        " *, +, - 를 이용해서 순서가 없는 목록을 만들 수 있습니다.<br>\n",
        "들여쓰기를 하면 모양이 바뀝니다.<br><br>\n",
        "* Ordered lists 순서가 있는 목록<br>\n",
        " 숫자를 기입하면 순서가 있는 목록이 됩니다.<br>\n",
        " 들여쓰기를 하면 모양이 바뀝니다."
      ]
    },
    {
      "cell_type": "markdown",
      "metadata": {
        "id": "HrCSNq_JXu2e"
      },
      "source": [
        "# 5. Backslash Escapes 백슬래쉬 이스케이프 <br><br>\n",
        "\n",
        "특수문자를 표현할 때, <br>\n",
        "표시될 문자 앞에 \\를 넣고 특수문자를 쓰면 됩니다.<br>\n",
        "주의할 점은 앞과 뒤에가 형식이 똑같이 백슬래쉬 뒤에 특수문자입니다. <br>\n",
        "감싸는 형태가 아닙니다.<br>\n",
        "백슬래쉬는 아래의 특수문자를 표현할 수 있습니다.<br><br>\n",
        "\n",
        "\\ backslash, \\ backtick, * asterisk, _ underscore, {} curly braces, [] square brackets,\n",
        "() parentheses, # hash mark, + plus sign, - minus sign (hyphen), . dot, ! exclamation mark\n"
      ]
    },
    {
      "cell_type": "markdown",
      "metadata": {
        "id": "ri3ue1bzXu0F"
      },
      "source": [
        "# 6. Images 이미지 <br>\n",
        "  ### < img >로 변환됩니다.\n",
        "* 링크와 비슷하지만 앞에 !가 붙습니다.\n",
        "* 인라인 이미지   \\ ! [alt text] ( / test.png \\ )\n",
        "* 링크 이미지  \\ ! [alt text]  ( image_URL \\ ) \n",
        "* 이미지의 사이즈를 변경하기 위해서는 < img width=\"OOOpx\" height=\"OOOpx\" > < / img >와 같이 표현합니다.\n"
      ]
    },
    {
      "cell_type": "markdown",
      "metadata": {
        "id": "quWVSSfOb8iw"
      },
      "source": [
        "![](a,jpg)\n",
        "![](b,jpg)\n",
        "! [] ( \\이미지 경로\\a.jpg ) "
      ]
    },
    {
      "cell_type": "markdown",
      "metadata": {
        "id": "AJt-ACjDXuxS"
      },
      "source": [
        "# 7. Links (Anchor) 링크\n",
        "\n",
        "* External Links 외부 링크\n",
        "인라인 링크: [링크](http://example.com \"링크 제목\")\n",
        "url 링크: <example.com>, <example@example.com>; 꺽쇠 괄호 없어도 자동으로 링크를 사용<br>\n",
        "\n",
        "* Internal Links 내부 링크\n",
        "[보여지는 내용](#이동할 헤드(제목))\n",
        "괄호 안의 링크를 쓸 때는 띄어쓰기는 -로 연결, 영어는 모두 소문자로 작성\n"
      ]
    },
    {
      "cell_type": "markdown",
      "metadata": {
        "id": "3rUDE_RtXuuV"
      },
      "source": [
        "# 8. Fenced Code Blocks 코드 블럭 <br><br>\n",
        "간단한 인라인 코드는 텍스트를 앞뒤로 `기호로 감싸면 됩니다.\n",
        "``` 혹은 ~~~ 코드.\n",
        "첫 줄과 마지막 줄에 Back quote ( ` ) 또는 물결( ~ ) 3개 삽입.\n",
        "코드가 여러 줄인 경우, 줄 앞에 공백 네 칸을 추가하면 됩니다.\n",
        "``` 옆에 언어를 지정해주면 syntax color가 적용됩니다.\n"
      ]
    },
    {
      "cell_type": "markdown",
      "metadata": {
        "id": "L9McwISKgVVp"
      },
      "source": [
        "function test() {\n",
        " console.log(\"look ma’, no spaces\");\n",
        "}\n"
      ]
    },
    {
      "cell_type": "markdown",
      "metadata": {
        "id": "cIdP_nYzXunT"
      },
      "source": [
        "# 9. Horizontal Rules 수평선\n",
        "- 또는 * 또는 _ 을 3개 이상 작성.\n",
        "단, -을 사용할 경우 header로 인식할 수 있으니 이 전 라인은 비워두어야 합니다.\n"
      ]
    },
    {
      "cell_type": "markdown",
      "metadata": {
        "id": "upazoQ6dXubt"
      },
      "source": [
        "# 10. Table 테이블\n",
        "헤더와 셀을 구분할 때 3개 이상의 -(hyphen/dash) 기호가 필요합니다.<br>\n",
        "헤더 셀을 구분하면서 :(Colons) 기호로 셀(열/칸) 안에 내용을 정렬할 수 있습니다.<br>\n",
        "가장 좌측과 가장 우측에 있는 |(vertical bar) 기호는 생략 가능합니다.<br>\n",
        "https://ko.wikipedia.org/wiki/%EC%9C%84%ED%82%A4%EB%B0%B1%EA%B3%BC:TeX_%EB%AC%B8%EB%B2%95\n"
      ]
    },
    {
      "cell_type": "markdown",
      "metadata": {
        "id": "zytw9qMHXuQk"
      },
      "source": [
        "$a^2 + b^2 = c^2$<br>\n",
        "$e = mc^2$<br><br>\n",
        "$\\bar{x} = {\\sum x \\over n}$<br><br>\n",
        "$\\bar{x} = \\frac{\\sum x}{n}$<br><br>\n",
        "$x = \\frac{-b\\pm \\sqrt {b^2-4ac}}{2a}$\n"
      ]
    },
    {
      "cell_type": "markdown",
      "metadata": {
        "id": "88GlxGwSglgm"
      },
      "source": [
        ""
      ]
    },
    {
      "cell_type": "markdown",
      "metadata": {
        "id": "9Y015F1JgldZ"
      },
      "source": [
        ""
      ]
    },
    {
      "cell_type": "markdown",
      "metadata": {
        "id": "0kqh9KA5glbN"
      },
      "source": [
        ""
      ]
    },
    {
      "cell_type": "markdown",
      "metadata": {
        "id": "1iKioUSrglYd"
      },
      "source": [
        ""
      ]
    },
    {
      "cell_type": "markdown",
      "metadata": {
        "id": "kBqDcOUQglV6"
      },
      "source": [
        ""
      ]
    },
    {
      "cell_type": "markdown",
      "metadata": {
        "id": "PLq8RWfMglTM"
      },
      "source": [
        ""
      ]
    },
    {
      "cell_type": "markdown",
      "metadata": {
        "id": "C5ob_tqvglQY"
      },
      "source": [
        ""
      ]
    },
    {
      "cell_type": "markdown",
      "metadata": {
        "id": "dE8l5V83glOE"
      },
      "source": [
        ""
      ]
    },
    {
      "cell_type": "markdown",
      "metadata": {
        "id": "80qaxL1yglL1"
      },
      "source": [
        ""
      ]
    },
    {
      "cell_type": "markdown",
      "metadata": {
        "id": "cQwV5UFnglI-"
      },
      "source": [
        ""
      ]
    },
    {
      "cell_type": "markdown",
      "metadata": {
        "id": "MDcNUc40glAM"
      },
      "source": [
        ""
      ]
    }
  ]
}